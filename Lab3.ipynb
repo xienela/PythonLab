{
 "cells": [
  {
   "cell_type": "code",
   "execution_count": 16,
   "id": "06d5183b",
   "metadata": {},
   "outputs": [
    {
     "name": "stdout",
     "output_type": "stream",
     "text": [
      "3\n",
      "Mar\n"
     ]
    }
   ],
   "source": [
    "# Задание 1\n",
    "month = int(input())\n",
    "months =['Jan', 'Feb', 'Mar', 'Apr', 'May', 'Jun', 'Jul', 'Aug', 'Sep', 'Oct', 'Nov', 'Dec']\n",
    "print(months[month - 1]) if month != 0 and month < 13 else print(\"Nope\")"
   ]
  },
  {
   "cell_type": "code",
   "execution_count": 27,
   "id": "a49101e2",
   "metadata": {},
   "outputs": [
    {
     "name": "stdout",
     "output_type": "stream",
     "text": [
      "600 1012\n"
     ]
    },
    {
     "data": {
      "text/plain": [
       "4"
      ]
     },
     "execution_count": 27,
     "metadata": {},
     "output_type": "execute_result"
    }
   ],
   "source": [
    "# Задание 2\n",
    "import math\n",
    "a,b = map(lambda x:int(x), input().split())\n",
    "math.gcd(a,b)"
   ]
  },
  {
   "cell_type": "code",
   "execution_count": 39,
   "id": "b302e0ef",
   "metadata": {},
   "outputs": [
    {
     "name": "stdout",
     "output_type": "stream",
     "text": [
      "False\n"
     ]
    }
   ],
   "source": [
    "# Задание 3\n",
    "ex = ['png', 'jpg', 'jpeg', 'gif', 'svg'] # extensions\n",
    "file='Моя диссертация.rfff'\n",
    "print(file[-3:] in ex or file[-4:] in ex)"
   ]
  },
  {
   "cell_type": "code",
   "execution_count": 41,
   "id": "97f1ea8b",
   "metadata": {},
   "outputs": [
    {
     "name": "stdout",
     "output_type": "stream",
     "text": [
      "2022\n",
      "невис\n"
     ]
    }
   ],
   "source": [
    "# Задание 4\n",
    "year = int(input())\n",
    "print('вис') if year % 400 == 0 or year % 4 == 0 else print('невис') "
   ]
  }
 ],
 "metadata": {
  "kernelspec": {
   "display_name": "Python 3 (ipykernel)",
   "language": "python",
   "name": "python3"
  },
  "language_info": {
   "codemirror_mode": {
    "name": "ipython",
    "version": 3
   },
   "file_extension": ".py",
   "mimetype": "text/x-python",
   "name": "python",
   "nbconvert_exporter": "python",
   "pygments_lexer": "ipython3",
   "version": "3.9.13"
  }
 },
 "nbformat": 4,
 "nbformat_minor": 5
}
