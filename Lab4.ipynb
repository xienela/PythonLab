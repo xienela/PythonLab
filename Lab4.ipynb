{
 "cells": [
  {
   "cell_type": "code",
   "execution_count": 9,
   "id": "e1d820e2",
   "metadata": {},
   "outputs": [
    {
     "data": {
      "text/plain": [
       "2.0"
      ]
     },
     "execution_count": 9,
     "metadata": {},
     "output_type": "execute_result"
    }
   ],
   "source": [
    "# Задание 1. Корень из числа\n",
    "\n",
    "def sqrt(x, s=2): return x ** (1 / s)\n",
    "sqrt(16,4)"
   ]
  },
  {
   "cell_type": "code",
   "execution_count": 11,
   "id": "6f57037e",
   "metadata": {},
   "outputs": [
    {
     "data": {
      "text/plain": [
       "True"
      ]
     },
     "execution_count": 11,
     "metadata": {},
     "output_type": "execute_result"
    }
   ],
   "source": [
    "# Задание 2. Функция проверки расширений\n",
    "def ex_file(file, ex=['png', 'jpg', 'jpeg', 'gif', 'svg']):\n",
    "    for e in ex:\n",
    "        if e in file:\n",
    "            return True\n",
    "    return False\n",
    "\n",
    "ex_file('Моя.gif')"
   ]
  },
  {
   "cell_type": "code",
   "execution_count": 17,
   "id": "1fe4a44f",
   "metadata": {},
   "outputs": [
    {
     "data": {
      "text/plain": [
       "{1: 10, 2: 20, 3: 30, 4: 40, 5: 50, 6: 60}"
      ]
     },
     "execution_count": 17,
     "metadata": {},
     "output_type": "execute_result"
    }
   ],
   "source": [
    "# Задание 3. Слить воедино три словаря\n",
    "dict_a = {1:10, 2:20}\n",
    "dict_b = {3:30, 4:40}\n",
    "dict_c = {5:50, 6:60}\n",
    "\n",
    "dict_b.update(dict_c)\n",
    "dict_a.update(dict_b)\n",
    "dict_a\n"
   ]
  },
  {
   "cell_type": "code",
   "execution_count": 30,
   "id": "c2ff55e0",
   "metadata": {},
   "outputs": [
    {
     "data": {
      "text/plain": [
       "12"
      ]
     },
     "execution_count": 30,
     "metadata": {},
     "output_type": "execute_result"
    }
   ],
   "source": [
    "# Задание 4. Функция, складывающая цифры внутри числа\n",
    "def num_sum(num):\n",
    "    return sum(list(map(lambda x: int(x), list(str(num)))))\n",
    "    \n",
    "num_sum(255)   "
   ]
  },
  {
   "cell_type": "code",
   "execution_count": 32,
   "id": "9ac460ca",
   "metadata": {},
   "outputs": [
    {
     "data": {
      "text/plain": [
       "False"
      ]
     },
     "execution_count": 32,
     "metadata": {},
     "output_type": "execute_result"
    }
   ],
   "source": [
    "# Задание 5. Все ли числа последовательности уникальны?\n",
    "numbers = [1,4,5,4]\n",
    "len(set(numbers)) == len(numbers)"
   ]
  },
  {
   "cell_type": "code",
   "execution_count": 61,
   "id": "7199a3ea",
   "metadata": {},
   "outputs": [
    {
     "name": "stdout",
     "output_type": "stream",
     "text": [
      "я не в отпуск\n"
     ]
    }
   ],
   "source": [
    "# Задание 6. Функция, печатающая все элементы заданного ей списка\n",
    "\n",
    "def print_list(my_list):\n",
    "    print(' '.join(list(map(lambda x: str(x), my_list))))\n",
    "    \n",
    "print_list([\"я\", \"не\", \"в\", \"отпуск\" ])"
   ]
  },
  {
   "cell_type": "code",
   "execution_count": 45,
   "id": "66d463af",
   "metadata": {},
   "outputs": [
    {
     "name": "stdout",
     "output_type": "stream",
     "text": [
      "('key1', 2)\n",
      "('key3', False)\n",
      "('Приветствие', 'Hello')\n"
     ]
    }
   ],
   "source": [
    "# Функция печати элементов словаря\n",
    "\n",
    "def print_dict(my_dict):\n",
    "    for i in my_dict.items(): print(i)\n",
    "    \n",
    "print_dict({\"key1\": 2, \"key3\": False, \"Приветствие\": \"Hello\"})"
   ]
  },
  {
   "cell_type": "code",
   "execution_count": 62,
   "id": "e54c8c0b",
   "metadata": {},
   "outputs": [
    {
     "name": "stdout",
     "output_type": "stream",
     "text": [
      "1 2 3 4\n",
      "('ciao', 'Mondo')\n",
      "('Привет', 'О дивный мир')\n"
     ]
    }
   ],
   "source": [
    "# Объединение двух функций\n",
    "\n",
    "def print_overlord(mydict):\n",
    "    for i in mydict.values():\n",
    "        if type(i) == list: print_list(i)\n",
    "        elif type(i) == dict: print_dict(i)\n",
    "        \n",
    "print_overlord(dict(key1=1,\n",
    "            key2=[1, 2, 3, 4], \n",
    "            key3='Hello', \n",
    "            key4={\"ciao\":\"Mondo\", \"Привет\": \"О дивный мир\"}))"
   ]
  },
  {
   "cell_type": "code",
   "execution_count": 63,
   "id": "f4b5dc47",
   "metadata": {},
   "outputs": [],
   "source": [
    "# Задание 7\n",
    "# \n",
    "#          1. Скрипты на Linux\n",
    "#          2. Flask\n"
   ]
  },
  {
   "cell_type": "code",
   "execution_count": null,
   "id": "34226a60",
   "metadata": {},
   "outputs": [],
   "source": [
    "#                  Задачи со *"
   ]
  },
  {
   "cell_type": "code",
   "execution_count": 70,
   "id": "5e2fab27",
   "metadata": {},
   "outputs": [
    {
     "name": "stdout",
     "output_type": "stream",
     "text": [
      "тут\n",
      "фраза\n",
      "с\n",
      "пробелами\n",
      "и\n",
      "я\n",
      "хочу\n",
      "их\n",
      "распечатать\n",
      "по\n",
      "одному\n",
      "на\n",
      "строку\n",
      "и\n",
      "ещё\n",
      "посчитать\n",
      "слова\n",
      "Count:  17\n"
     ]
    }
   ],
   "source": [
    "# 1 Задание*\n",
    "def word_count(phrase):\n",
    "    ar = phrase.lower().split()\n",
    "    for i in ar: print(i)\n",
    "    print(\"Count: \", len(ar))\n",
    "   \n",
    "word_count(\"Тут фраза с пробелами и я хочу их распечатать по одному на строку и ещё посчитать слова\")"
   ]
  },
  {
   "cell_type": "code",
   "execution_count": 78,
   "id": "cfad6037",
   "metadata": {},
   "outputs": [
    {
     "name": "stdout",
     "output_type": "stream",
     "text": [
      "тут вес: 5.88 %\n",
      "фраза вес: 5.88 %\n",
      "с вес: 5.88 %\n",
      "пробелами вес: 5.88 %\n",
      "и вес: 11.76 %\n",
      "я вес: 5.88 %\n",
      "хочу вес: 5.88 %\n",
      "их вес: 5.88 %\n",
      "распечатать вес: 5.88 %\n",
      "по вес: 5.88 %\n",
      "одному вес: 5.88 %\n",
      "на вес: 5.88 %\n",
      "строку вес: 5.88 %\n",
      "и вес: 11.76 %\n",
      "ещё вес: 5.88 %\n",
      "посчитать вес: 5.88 %\n",
      "слова вес: 5.88 %\n",
      "\n",
      "Count:  17\n"
     ]
    }
   ],
   "source": [
    "# 2 Задание *\n",
    "\n",
    "def word_count(phrase):\n",
    "    ar = phrase.lower().split()\n",
    "    \n",
    "    for i in ar:\n",
    "        print(i, \"вес:\",'{:.2f}'.format(100 * ar.count(i)/len(ar)) , \"%\")\n",
    "        \n",
    "    print(\"\\nCount: \", len(ar))\n",
    "    \n",
    "    \n",
    "    \n",
    "   \n",
    "word_count(\"Тут фраза с пробелами и я хочу их распечатать по одному на строку и ещё посчитать слова\")"
   ]
  },
  {
   "cell_type": "code",
   "execution_count": null,
   "id": "d48aefc8",
   "metadata": {},
   "outputs": [],
   "source": []
  }
 ],
 "metadata": {
  "kernelspec": {
   "display_name": "Python 3 (ipykernel)",
   "language": "python",
   "name": "python3"
  },
  "language_info": {
   "codemirror_mode": {
    "name": "ipython",
    "version": 3
   },
   "file_extension": ".py",
   "mimetype": "text/x-python",
   "name": "python",
   "nbconvert_exporter": "python",
   "pygments_lexer": "ipython3",
   "version": "3.9.13"
  }
 },
 "nbformat": 4,
 "nbformat_minor": 5
}
