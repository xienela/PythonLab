{
 "cells": [
  {
   "cell_type": "code",
   "execution_count": 1,
   "id": "164d8143",
   "metadata": {},
   "outputs": [
    {
     "name": "stdout",
     "output_type": "stream",
     "text": [
      "2:46:40\n"
     ]
    }
   ],
   "source": [
    "# Первое задание\n",
    "import datetime, re\n",
    "seconds = 10000\n",
    "print(re.sub(r\" day, | days, \",\":\",str(datetime.timedelta(seconds=seconds))))"
   ]
  },
  {
   "cell_type": "code",
   "execution_count": 8,
   "id": "5fa31beb",
   "metadata": {},
   "outputs": [
    {
     "name": "stdout",
     "output_type": "stream",
     "text": [
      "6 + 7\n",
      "Results: 13\n"
     ]
    }
   ],
   "source": [
    "# Второе задание\n",
    "i = input().split()\n",
    "print(\"Results: \", end='')\n",
    "if i[1] == '+':\n",
    "    print(int(i[0]) + int(i[2]))\n",
    "elif i[1] == '-':\n",
    "    print(int(i[0])-int(i[2]))\n",
    "elif i[1] == '*':\n",
    "    print(int(i[0])*int(i[2]))\n",
    "elif i[1] =='/':\n",
    "    print(int(i[0])/int(i[2]))\n"
   ]
  },
  {
   "cell_type": "code",
   "execution_count": 9,
   "id": "48910f0f",
   "metadata": {},
   "outputs": [
    {
     "name": "stdout",
     "output_type": "stream",
     "text": [
      "aaaa\n",
      "bbbb\n",
      "aaaa bbbb\n",
      "aaaa bbbb\n"
     ]
    }
   ],
   "source": [
    "# Третье задание\n",
    "str1 = input()\n",
    "str2 = input()\n",
    "print(str1 + \" \" + str2)\n",
    "print(str1, str2, sep=' ')"
   ]
  },
  {
   "cell_type": "code",
   "execution_count": 11,
   "id": "e1265ee7",
   "metadata": {},
   "outputs": [
    {
     "name": "stdout",
     "output_type": "stream",
     "text": [
      "Имя: Алексей\n",
      "Возраст: 4\n",
      "С днём рождения, Алексей!\n",
      "С днём рождения, Алексей!\n",
      "С днём рождения, Алексей!\n",
      "С днём рождения, Алексей!\n"
     ]
    }
   ],
   "source": [
    "name=input(\"Имя: \")\n",
    "age=input(\"Возраст: \")\n",
    "for i in range(0, int(age)):\n",
    "    print(\"С днём рождения, %s!\" % name) "
   ]
  },
  {
   "cell_type": "code",
   "execution_count": null,
   "id": "75a38ef4",
   "metadata": {},
   "outputs": [],
   "source": []
  }
 ],
 "metadata": {
  "kernelspec": {
   "display_name": "Python 3 (ipykernel)",
   "language": "python",
   "name": "python3"
  },
  "language_info": {
   "codemirror_mode": {
    "name": "ipython",
    "version": 3
   },
   "file_extension": ".py",
   "mimetype": "text/x-python",
   "name": "python",
   "nbconvert_exporter": "python",
   "pygments_lexer": "ipython3",
   "version": "3.10.8"
  }
 },
 "nbformat": 4,
 "nbformat_minor": 5
}
