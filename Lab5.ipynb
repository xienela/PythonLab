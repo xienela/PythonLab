{
 "cells": [
  {
   "cell_type": "code",
   "execution_count": 22,
   "id": "dea4ac39",
   "metadata": {},
   "outputs": [
    {
     "name": "stdout",
     "output_type": "stream",
     "text": [
      "Средний балл: 3.1818181818181817\n",
      "\n",
      "Список отстающих:\n",
      "\n",
      "Дмитриев Н.\n",
      "Котов Д.\n",
      "Бирюкова Н.\n",
      "Лемонов Ю.\n"
     ]
    }
   ],
   "source": [
    "# 1. Средний бал и список отстающих учеников\n",
    "students = '''Иванов О. 4\n",
    "Петров И. 3\n",
    "Дмитриев Н. 2\n",
    "Смирнова О. 4\n",
    "Керченских В. 5\n",
    "Котов Д. 2\n",
    "Бирюкова Н. 1\n",
    "Данилов П. 3\n",
    "Аранских В. 5\n",
    "Лемонов Ю. 2\n",
    "Олегова К. 4'''\n",
    "\n",
    "\n",
    "summ=0\n",
    "bad_list=[]\n",
    "s_list = students.split('\\n')\n",
    "for s in s_list:\n",
    "    mark = int(s[-1])\n",
    "    summ += mark\n",
    "    if mark <= 2:\n",
    "        bad_list.append(s[:-2])\n",
    "\n",
    "print('Средний балл:', summ/len(s_list), end=\"\\n\\n\")\n",
    "print('Список отстающих:\\n\\n', '\\n'.join(bad_list), sep='')    "
   ]
  },
  {
   "cell_type": "code",
   "execution_count": 32,
   "id": "7502ede9",
   "metadata": {},
   "outputs": [
    {
     "name": "stdout",
     "output_type": "stream",
     "text": [
      "Лекций: 6\n",
      "практических: 11\n",
      "Лабораторных: 2\n"
     ]
    }
   ],
   "source": [
    "# 2. Посчитать количество определенных слов в файле\n",
    "with open('расписание.txt', 'r', encoding='utf-8') as r:\n",
    "    lec = 0\n",
    "    pract = 0\n",
    "    lab = 0\n",
    "    for s in r.readlines():\n",
    "        if 'лек' in s:\n",
    "            lec += 1\n",
    "        elif 'прак' in s:\n",
    "            pract += 1\n",
    "        elif 'лаб' in s:\n",
    "            lab += 1\n",
    "    print('Лекций:', lec)\n",
    "    print('практических:', pract)\n",
    "    print('Лабораторных:', lab)        \n",
    "    "
   ]
  },
  {
   "cell_type": "code",
   "execution_count": 46,
   "id": "e52bf15c",
   "metadata": {},
   "outputs": [
    {
     "name": "stdout",
     "output_type": "stream",
     "text": [
      ".git\n",
      ".ipynb_checkpoints\n",
      ".txt\n",
      "export_file_48603.csv\n",
      "For fun.ipynb\n",
      "Lab3.ipynb\n",
      "Lab4.ipynb\n",
      "Lab5.ipynb\n",
      "some_file.txt\n",
      "untitled.txt\n",
      "расписание.txt\n"
     ]
    }
   ],
   "source": [
    "# 4. Вывести список дирикторий \n",
    "import os\n",
    "os.path.exists('../PythonExercises')\n",
    "\n",
    "for file in os.listdir('../PythonExercises'):\n",
    "    print(file)"
   ]
  },
  {
   "cell_type": "code",
   "execution_count": 86,
   "id": "8206ee4a",
   "metadata": {},
   "outputs": [
    {
     "name": "stdout",
     "output_type": "stream",
     "text": [
      "И храброславленный\n"
     ]
    }
   ],
   "source": [
    "# 5. Напишите программу, которая принимает текст...\n",
    "\n",
    "import re\n",
    "import numpy as np\n",
    "s = \"\"\"Варкалось. Хливкие шорьки Пырялись по наве, И хрюкотали зелюки, Как мюмзики в мове.\n",
    "\n",
    "О, бойся Бармаглота, сын! Он так свирлеп и дик! А в глу́ше ры́мит исполин — Злопастный Брандашмыг!\n",
    "\n",
    "Но взял он меч, и взял он щит, Высоких полон дум. В глущобу путь его лежит Под дерево Тумтум.\n",
    "\n",
    "Он стал под дерево и ждёт. И вдруг граахнул гром — Летит ужасный Бармаглот И пылкает огнём!\n",
    "\n",
    "Раз-два, раз-два! Горит трава, Взы-взы — стрижает меч, Ува! Ува! И голова Барабардает с плеч!\n",
    "\n",
    "О светозарный мальчик мой! Ты победил в бою! О храброславленный герой, Хвалу тебе пою!\n",
    "\n",
    "Варкалось. Хливкие шорьки Пырялись по наве. И хрюкотали зелюки, Как мюмзики в мове.\"\"\"\n",
    "\n",
    "words = []\n",
    "w1 = ''\n",
    "c1 = 0\n",
    "w2 = ''\n",
    "\n",
    "for m in re.findall(r'[А-я]+', s):\n",
    "    words.append(m)\n",
    "    \n",
    "for w in words:\n",
    "    c = words.count(w)\n",
    "    if c > c1:\n",
    "        c1 = c\n",
    "        w1 = w\n",
    "    if len(w) > len(w2):\n",
    "        w2 = w\n",
    "        \n",
    "print(w1,w2)\n"
   ]
  },
  {
   "cell_type": "code",
   "execution_count": null,
   "id": "cabfaf81",
   "metadata": {},
   "outputs": [],
   "source": []
  },
  {
   "cell_type": "code",
   "execution_count": null,
   "id": "234339f2",
   "metadata": {},
   "outputs": [],
   "source": []
  }
 ],
 "metadata": {
  "kernelspec": {
   "display_name": "Python 3 (ipykernel)",
   "language": "python",
   "name": "python3"
  },
  "language_info": {
   "codemirror_mode": {
    "name": "ipython",
    "version": 3
   },
   "file_extension": ".py",
   "mimetype": "text/x-python",
   "name": "python",
   "nbconvert_exporter": "python",
   "pygments_lexer": "ipython3",
   "version": "3.9.13"
  }
 },
 "nbformat": 4,
 "nbformat_minor": 5
}
