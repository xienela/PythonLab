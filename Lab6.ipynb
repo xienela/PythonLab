{
 "cells": [
  {
   "cell_type": "code",
   "execution_count": 114,
   "id": "bfa698c5",
   "metadata": {},
   "outputs": [
    {
     "name": "stdout",
     "output_type": "stream",
     "text": [
      "Имя студента: Artem \t Возраст студента: 16\n",
      "Изменить возраст:\n",
      "Имя студента: Lol \t Возраст студента: 22\n"
     ]
    }
   ],
   "source": [
    "# Задача 1\n",
    "\n",
    "class Student:\n",
    "    def __init__(self, name='Ivan', groupNumber='10A', age=18):\n",
    "        self.name = name\n",
    "        self.groupNumber = groupNumber\n",
    "        self.age = age\n",
    "        \n",
    "    def getName(self):\n",
    "        return 'Имя студента: %s' % self.name\n",
    "    \n",
    "    def getAge(self):\n",
    "        return 'Возраст студента: %s' % self.age\n",
    "    \n",
    "    def getGroupNumber(self):\n",
    "        return 'Группа студента: %s' % self.groupNumber\n",
    "    \n",
    "    def setNameAge(self, *args):\n",
    "        self.name = args[0]\n",
    "        if len(args) == 2:\n",
    "            self.age = args[1]\n",
    "        \n",
    "    def setGroupNumber(self, new_group):\n",
    "        self.groupNumber = new_group\n",
    "        \n",
    "\n",
    "        \n",
    "    \n",
    "s1 = Student('Alex', '10B', 16)\n",
    "s2 = Student('Roman', '9B', 15)\n",
    "s3 = Student('Sveta', '11A', 17)\n",
    "s4 = Student('Nikita', '11A', 17)\n",
    "s5 = Student('Artem', '9A', 16)\n",
    "\n",
    "print(s5.getName(),\"\\t\", s5.getAge())\n",
    "print(\"Изменить возраст:\")\n",
    "s5.setNameAge('Lol', 22)\n",
    "print(s5.getName(),\"\\t\", s5.getAge())\n"
   ]
  },
  {
   "cell_type": "code",
   "execution_count": 115,
   "id": "d63450b8",
   "metadata": {},
   "outputs": [],
   "source": [
    "# Задача 2\n",
    "\n",
    "class Car:\n",
    "    def __init__(self, color, type_car, year):\n",
    "        self.color = color\n",
    "        self.type_car = type_car\n",
    "        self.year = year\n",
    "        \n",
    "    def start_car(self):\n",
    "        return \"Автомобиль заведён\"\n",
    "    \n",
    "    def finished_car(self):\n",
    "        return 'Автомобиль заглушен'\n",
    "    \n",
    "    def setYear(self, new_year):\n",
    "        self.year = new_year\n",
    "        \n",
    "    def setType_car(self, new_type_car):\n",
    "        self.type_car = new_type_car\n",
    "        \n",
    "    def setColor(self, new_color):\n",
    "        self.color = new_color\n",
    "        \n",
    "    "
   ]
  },
  {
   "cell_type": "code",
   "execution_count": 125,
   "id": "7151595d",
   "metadata": {},
   "outputs": [
    {
     "name": "stdout",
     "output_type": "stream",
     "text": [
      "60\n",
      "Nutrition p 0.26, c 13.81, f 0.17\n",
      "181\n",
      "Nutrition p 0.78, c 41.43, f 0.51\n"
     ]
    }
   ],
   "source": [
    "# Задача 3\n",
    "\n",
    "class NutritionInfo:\n",
    "    def __init__(self, proteins, carbs, fats):\n",
    "        self.proteins = proteins\n",
    "        self.carbs = carbs\n",
    "        self.fats = fats\n",
    "    \n",
    "    def __add__(self, other):\n",
    "        return NutritionInfo(self.proteins + other.proteins, self.carbs + other.carbs, self.fats + other.fats)\n",
    "    \n",
    "    def __mul__(self, other):\n",
    "        return NutritionInfo(self.proteins * other, self.carbs * other, self.fats * other)\n",
    "    \n",
    "    def __str__(self):\n",
    "        return f\"Nutrition p {self.proteins}, c {self.carbs}, f {self.fats}\"\n",
    "        \n",
    "    def energy(self):\n",
    "        return int(self.fats * 9 + (self.carbs + self.proteins) * 4.2)\n",
    "    \n",
    "\n",
    "    \n",
    "\n",
    "apple = NutritionInfo(0.26, 13.81, 0.17)\n",
    "print(apple.energy())\n",
    "print(apple)\n",
    "apple = apple * 3\n",
    "print(apple.energy())\n",
    "print(apple)"
   ]
  }
 ],
 "metadata": {
  "kernelspec": {
   "display_name": "Python 3 (ipykernel)",
   "language": "python",
   "name": "python3"
  },
  "language_info": {
   "codemirror_mode": {
    "name": "ipython",
    "version": 3
   },
   "file_extension": ".py",
   "mimetype": "text/x-python",
   "name": "python",
   "nbconvert_exporter": "python",
   "pygments_lexer": "ipython3",
   "version": "3.9.13"
  }
 },
 "nbformat": 4,
 "nbformat_minor": 5
}
